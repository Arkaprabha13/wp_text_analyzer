{
 "cells": [
  {
   "cell_type": "code",
   "execution_count": 140,
   "id": "345db093",
   "metadata": {},
   "outputs": [],
   "source": [
    "import re \n",
    "import pandas as pd"
   ]
  },
  {
   "cell_type": "code",
   "execution_count": 141,
   "id": "89d560c4",
   "metadata": {},
   "outputs": [],
   "source": [
    "f = open(\"WhatsApp Chat with HITK Official 27'.txt\",\"r\",encoding='utf-8')"
   ]
  },
  {
   "cell_type": "code",
   "execution_count": 142,
   "id": "052d76a9",
   "metadata": {},
   "outputs": [],
   "source": [
    "data = f.read() # read in string format"
   ]
  },
  {
   "cell_type": "code",
   "execution_count": 143,
   "id": "e7cc4d0b",
   "metadata": {},
   "outputs": [],
   "source": [
    "# print(data)"
   ]
  },
  {
   "cell_type": "code",
   "execution_count": 144,
   "id": "3adcd124",
   "metadata": {},
   "outputs": [],
   "source": [
    "pattern = '\\d{1,2}/\\d{1,2}/\\d{2,4},\\s\\d{1,2}:\\d{2}\\s-\\s'\n"
   ]
  },
  {
   "cell_type": "code",
   "execution_count": 145,
   "id": "7f9569ad",
   "metadata": {},
   "outputs": [],
   "source": [
    "# data[1:]"
   ]
  },
  {
   "cell_type": "code",
   "execution_count": 146,
   "id": "b86447d0",
   "metadata": {},
   "outputs": [],
   "source": [
    "messages = re.split(pattern,data[1:])"
   ]
  },
  {
   "cell_type": "code",
   "execution_count": 147,
   "id": "fafc93cb",
   "metadata": {},
   "outputs": [
    {
     "data": {
      "text/plain": [
       "1"
      ]
     },
     "execution_count": 147,
     "metadata": {},
     "output_type": "execute_result"
    }
   ],
   "source": [
    "len(messages)"
   ]
  },
  {
   "cell_type": "code",
   "execution_count": 148,
   "id": "dcb54296",
   "metadata": {},
   "outputs": [],
   "source": [
    "# messages\n",
    "\n"
   ]
  },
  {
   "cell_type": "markdown",
   "id": "1dfdf5e8",
   "metadata": {},
   "source": []
  },
  {
   "cell_type": "code",
   "execution_count": 149,
   "id": "ce2ed90e",
   "metadata": {},
   "outputs": [],
   "source": [
    "# Extract dates using regex\n",
    "dates_pattern = r'\\d{1,2}/\\d{1,2}/\\d{2,4}, \\d{1,2}:\\d{2} [APM]{2}'\n",
    "dates = re.findall(dates_pattern, data)\n"
   ]
  },
  {
   "cell_type": "code",
   "execution_count": 150,
   "id": "7eff6cfd",
   "metadata": {},
   "outputs": [],
   "source": [
    "# dates"
   ]
  },
  {
   "cell_type": "code",
   "execution_count": 151,
   "id": "f3581848",
   "metadata": {},
   "outputs": [
    {
     "data": {
      "text/plain": [
       "4339"
      ]
     },
     "execution_count": 151,
     "metadata": {},
     "output_type": "execute_result"
    }
   ],
   "source": [
    "len(dates)\n",
    "# len(messages)"
   ]
  },
  {
   "cell_type": "code",
   "execution_count": 152,
   "id": "1be347f6",
   "metadata": {},
   "outputs": [
    {
     "data": {
      "text/plain": [
       "4425"
      ]
     },
     "execution_count": 152,
     "metadata": {},
     "output_type": "execute_result"
    }
   ],
   "source": [
    "# Extract messages using regex\n",
    "messages_pattern = r'(?<= - ).*'\n",
    "messages = re.findall(messages_pattern, data)\n",
    "\n",
    "# Remove dates from messages\n",
    "messages = [re.sub(dates_pattern, '', msg).strip() for msg in messages]\n",
    "# Remove system messages (like \"created group\" or \"You were added\") that might be causing the discrepancy\n",
    "messages = [msg for msg in messages if not re.match(r'\\+\\d{2} \\d{10}', msg.split(':')[0])]\n",
    "\n",
    "len(messages)"
   ]
  },
  {
   "cell_type": "code",
   "execution_count": 153,
   "id": "04a2f3d6",
   "metadata": {},
   "outputs": [],
   "source": [
    "# messages"
   ]
  },
  {
   "cell_type": "code",
   "execution_count": 154,
   "id": "bea2e477",
   "metadata": {},
   "outputs": [],
   "source": [
    "# Handling mismatch in lengths\n",
    "if len(dates) > len(messages):\n",
    "    dates = dates[:len(messages)]\n",
    "elif len(messages) > len(dates):\n",
    "    messages = messages[:len(dates)]"
   ]
  },
  {
   "cell_type": "code",
   "execution_count": 155,
   "id": "12d6dd66",
   "metadata": {},
   "outputs": [
    {
     "data": {
      "text/html": [
       "<div>\n",
       "<style scoped>\n",
       "    .dataframe tbody tr th:only-of-type {\n",
       "        vertical-align: middle;\n",
       "    }\n",
       "\n",
       "    .dataframe tbody tr th {\n",
       "        vertical-align: top;\n",
       "    }\n",
       "\n",
       "    .dataframe thead th {\n",
       "        text-align: right;\n",
       "    }\n",
       "</style>\n",
       "<table border=\"1\" class=\"dataframe\">\n",
       "  <thead>\n",
       "    <tr style=\"text-align: right;\">\n",
       "      <th></th>\n",
       "      <th>user_message</th>\n",
       "      <th>date</th>\n",
       "    </tr>\n",
       "  </thead>\n",
       "  <tbody>\n",
       "    <tr>\n",
       "      <th>0</th>\n",
       "      <td>+91 95316 14708 created group \"HITK Official 27'\"</td>\n",
       "      <td>2023-08-25 09:03:00</td>\n",
       "    </tr>\n",
       "    <tr>\n",
       "      <th>1</th>\n",
       "      <td>You were added</td>\n",
       "      <td>2023-08-25 09:03:00</td>\n",
       "    </tr>\n",
       "    <tr>\n",
       "      <th>2</th>\n",
       "      <td>+91 80018 45577: Ye Pic to mai click kiya tha 🤌🏻🤣</td>\n",
       "      <td>2024-01-28 15:43:00</td>\n",
       "    </tr>\n",
       "    <tr>\n",
       "      <th>3</th>\n",
       "      <td>+91 80018 45577: Kaha se forward hua ye !!!😳</td>\n",
       "      <td>2024-01-28 15:44:00</td>\n",
       "    </tr>\n",
       "    <tr>\n",
       "      <th>4</th>\n",
       "      <td>+91 94508 79345: Bahut log ke pass hai</td>\n",
       "      <td>2024-01-28 16:39:00</td>\n",
       "    </tr>\n",
       "  </tbody>\n",
       "</table>\n",
       "</div>"
      ],
      "text/plain": [
       "                                        user_message                date\n",
       "0  +91 95316 14708 created group \"HITK Official 27'\" 2023-08-25 09:03:00\n",
       "1                                     You were added 2023-08-25 09:03:00\n",
       "2  +91 80018 45577: Ye Pic to mai click kiya tha 🤌🏻🤣 2024-01-28 15:43:00\n",
       "3       +91 80018 45577: Kaha se forward hua ye !!!😳 2024-01-28 15:44:00\n",
       "4             +91 94508 79345: Bahut log ke pass hai 2024-01-28 16:39:00"
      ]
     },
     "execution_count": 155,
     "metadata": {},
     "output_type": "execute_result"
    }
   ],
   "source": [
    "df = pd.DataFrame({'user_message':messages,'message_Date':dates})\n",
    "#converting message_date time \n",
    "df['message_Date'] = pd.to_datetime(df['message_Date'],format = \"%m/%d/%y, %I:%M %p\")\n",
    "df.rename(columns={\"message_Date\":\"date\"},inplace=True)\n",
    "df.head()"
   ]
  },
  {
   "cell_type": "code",
   "execution_count": 156,
   "id": "60b83cf7",
   "metadata": {},
   "outputs": [
    {
     "data": {
      "text/plain": [
       "(4339, 2)"
      ]
     },
     "execution_count": 156,
     "metadata": {},
     "output_type": "execute_result"
    }
   ],
   "source": [
    "df.shape"
   ]
  },
  {
   "cell_type": "code",
   "execution_count": 157,
   "id": "040768d5",
   "metadata": {},
   "outputs": [
    {
     "data": {
      "text/plain": [
       "4339"
      ]
     },
     "execution_count": 157,
     "metadata": {},
     "output_type": "execute_result"
    }
   ],
   "source": [
    "len(dates)"
   ]
  },
  {
   "cell_type": "code",
   "execution_count": 158,
   "id": "be02f367",
   "metadata": {},
   "outputs": [
    {
     "data": {
      "text/plain": [
       "4339"
      ]
     },
     "execution_count": 158,
     "metadata": {},
     "output_type": "execute_result"
    }
   ],
   "source": [
    "len(messages)"
   ]
  },
  {
   "cell_type": "code",
   "execution_count": 159,
   "id": "b2843849",
   "metadata": {},
   "outputs": [],
   "source": [
    "# Function to split user and message\n",
    "def split_user_message(row):\n",
    "    if ':' in row:\n",
    "        user, message = row.split(':', 1)\n",
    "        return pd.Series([user.strip(), message.strip()])\n",
    "    else:\n",
    "        return pd.Series([None, row.strip()])\n",
    "\n",
    "# Apply function to DataFrame\n",
    "df[['user', 'message']] = df['user_message'].apply(split_user_message)\n",
    "\n",
    "# Drop the original user_message column\n",
    "df.drop(columns=['user_message'], inplace=True)\n",
    "\n",
    "# Extract user and message lists\n",
    "user_list = df['user'].tolist()\n",
    "message_list = df['message'].tolist()"
   ]
  },
  {
   "cell_type": "code",
   "execution_count": 160,
   "id": "3cbe7b59",
   "metadata": {},
   "outputs": [
    {
     "data": {
      "text/html": [
       "<div>\n",
       "<style scoped>\n",
       "    .dataframe tbody tr th:only-of-type {\n",
       "        vertical-align: middle;\n",
       "    }\n",
       "\n",
       "    .dataframe tbody tr th {\n",
       "        vertical-align: top;\n",
       "    }\n",
       "\n",
       "    .dataframe thead th {\n",
       "        text-align: right;\n",
       "    }\n",
       "</style>\n",
       "<table border=\"1\" class=\"dataframe\">\n",
       "  <thead>\n",
       "    <tr style=\"text-align: right;\">\n",
       "      <th></th>\n",
       "      <th>date</th>\n",
       "      <th>user</th>\n",
       "      <th>message</th>\n",
       "    </tr>\n",
       "  </thead>\n",
       "  <tbody>\n",
       "    <tr>\n",
       "      <th>0</th>\n",
       "      <td>2023-08-25 09:03:00</td>\n",
       "      <td>None</td>\n",
       "      <td>+91 95316 14708 created group \"HITK Official 27'\"</td>\n",
       "    </tr>\n",
       "    <tr>\n",
       "      <th>1</th>\n",
       "      <td>2023-08-25 09:03:00</td>\n",
       "      <td>None</td>\n",
       "      <td>You were added</td>\n",
       "    </tr>\n",
       "    <tr>\n",
       "      <th>2</th>\n",
       "      <td>2024-01-28 15:43:00</td>\n",
       "      <td>+91 80018 45577</td>\n",
       "      <td>Ye Pic to mai click kiya tha 🤌🏻🤣</td>\n",
       "    </tr>\n",
       "    <tr>\n",
       "      <th>3</th>\n",
       "      <td>2024-01-28 15:44:00</td>\n",
       "      <td>+91 80018 45577</td>\n",
       "      <td>Kaha se forward hua ye !!!😳</td>\n",
       "    </tr>\n",
       "    <tr>\n",
       "      <th>4</th>\n",
       "      <td>2024-01-28 16:39:00</td>\n",
       "      <td>+91 94508 79345</td>\n",
       "      <td>Bahut log ke pass hai</td>\n",
       "    </tr>\n",
       "  </tbody>\n",
       "</table>\n",
       "</div>"
      ],
      "text/plain": [
       "                 date             user  \\\n",
       "0 2023-08-25 09:03:00             None   \n",
       "1 2023-08-25 09:03:00             None   \n",
       "2 2024-01-28 15:43:00  +91 80018 45577   \n",
       "3 2024-01-28 15:44:00  +91 80018 45577   \n",
       "4 2024-01-28 16:39:00  +91 94508 79345   \n",
       "\n",
       "                                             message  \n",
       "0  +91 95316 14708 created group \"HITK Official 27'\"  \n",
       "1                                     You were added  \n",
       "2                   Ye Pic to mai click kiya tha 🤌🏻🤣  \n",
       "3                        Kaha se forward hua ye !!!😳  \n",
       "4                              Bahut log ke pass hai  "
      ]
     },
     "execution_count": 160,
     "metadata": {},
     "output_type": "execute_result"
    }
   ],
   "source": [
    "df.head()"
   ]
  },
  {
   "cell_type": "code",
   "execution_count": 161,
   "id": "a839f9e3",
   "metadata": {},
   "outputs": [],
   "source": [
    "df['Year']=df['date'].dt.year"
   ]
  },
  {
   "cell_type": "code",
   "execution_count": 162,
   "id": "c431ef59",
   "metadata": {},
   "outputs": [],
   "source": [
    "df['Month']=df['date'].dt.month_name()"
   ]
  },
  {
   "cell_type": "code",
   "execution_count": 163,
   "id": "d60343b3",
   "metadata": {},
   "outputs": [],
   "source": [
    "df['Day']=df['date'].dt.date"
   ]
  },
  {
   "cell_type": "code",
   "execution_count": 164,
   "id": "ad6cad4a",
   "metadata": {},
   "outputs": [
    {
     "data": {
      "text/html": [
       "<div>\n",
       "<style scoped>\n",
       "    .dataframe tbody tr th:only-of-type {\n",
       "        vertical-align: middle;\n",
       "    }\n",
       "\n",
       "    .dataframe tbody tr th {\n",
       "        vertical-align: top;\n",
       "    }\n",
       "\n",
       "    .dataframe thead th {\n",
       "        text-align: right;\n",
       "    }\n",
       "</style>\n",
       "<table border=\"1\" class=\"dataframe\">\n",
       "  <thead>\n",
       "    <tr style=\"text-align: right;\">\n",
       "      <th></th>\n",
       "      <th>date</th>\n",
       "      <th>user</th>\n",
       "      <th>message</th>\n",
       "      <th>Year</th>\n",
       "      <th>Month</th>\n",
       "      <th>Day</th>\n",
       "    </tr>\n",
       "  </thead>\n",
       "  <tbody>\n",
       "    <tr>\n",
       "      <th>0</th>\n",
       "      <td>2023-08-25 09:03:00</td>\n",
       "      <td>None</td>\n",
       "      <td>+91 95316 14708 created group \"HITK Official 27'\"</td>\n",
       "      <td>2023</td>\n",
       "      <td>August</td>\n",
       "      <td>2023-08-25</td>\n",
       "    </tr>\n",
       "    <tr>\n",
       "      <th>1</th>\n",
       "      <td>2023-08-25 09:03:00</td>\n",
       "      <td>None</td>\n",
       "      <td>You were added</td>\n",
       "      <td>2023</td>\n",
       "      <td>August</td>\n",
       "      <td>2023-08-25</td>\n",
       "    </tr>\n",
       "    <tr>\n",
       "      <th>2</th>\n",
       "      <td>2024-01-28 15:43:00</td>\n",
       "      <td>+91 80018 45577</td>\n",
       "      <td>Ye Pic to mai click kiya tha 🤌🏻🤣</td>\n",
       "      <td>2024</td>\n",
       "      <td>January</td>\n",
       "      <td>2024-01-28</td>\n",
       "    </tr>\n",
       "    <tr>\n",
       "      <th>3</th>\n",
       "      <td>2024-01-28 15:44:00</td>\n",
       "      <td>+91 80018 45577</td>\n",
       "      <td>Kaha se forward hua ye !!!😳</td>\n",
       "      <td>2024</td>\n",
       "      <td>January</td>\n",
       "      <td>2024-01-28</td>\n",
       "    </tr>\n",
       "    <tr>\n",
       "      <th>4</th>\n",
       "      <td>2024-01-28 16:39:00</td>\n",
       "      <td>+91 94508 79345</td>\n",
       "      <td>Bahut log ke pass hai</td>\n",
       "      <td>2024</td>\n",
       "      <td>January</td>\n",
       "      <td>2024-01-28</td>\n",
       "    </tr>\n",
       "  </tbody>\n",
       "</table>\n",
       "</div>"
      ],
      "text/plain": [
       "                 date             user  \\\n",
       "0 2023-08-25 09:03:00             None   \n",
       "1 2023-08-25 09:03:00             None   \n",
       "2 2024-01-28 15:43:00  +91 80018 45577   \n",
       "3 2024-01-28 15:44:00  +91 80018 45577   \n",
       "4 2024-01-28 16:39:00  +91 94508 79345   \n",
       "\n",
       "                                             message  Year    Month  \\\n",
       "0  +91 95316 14708 created group \"HITK Official 27'\"  2023   August   \n",
       "1                                     You were added  2023   August   \n",
       "2                   Ye Pic to mai click kiya tha 🤌🏻🤣  2024  January   \n",
       "3                        Kaha se forward hua ye !!!😳  2024  January   \n",
       "4                              Bahut log ke pass hai  2024  January   \n",
       "\n",
       "          Day  \n",
       "0  2023-08-25  \n",
       "1  2023-08-25  \n",
       "2  2024-01-28  \n",
       "3  2024-01-28  \n",
       "4  2024-01-28  "
      ]
     },
     "execution_count": 164,
     "metadata": {},
     "output_type": "execute_result"
    }
   ],
   "source": [
    "df.head()"
   ]
  },
  {
   "cell_type": "code",
   "execution_count": 165,
   "id": "da962672",
   "metadata": {},
   "outputs": [],
   "source": [
    "df['hour']=df['date'].dt.hour"
   ]
  },
  {
   "cell_type": "code",
   "execution_count": 166,
   "id": "2f10f64d",
   "metadata": {},
   "outputs": [],
   "source": [
    "df['minutes']=df['date'].dt.minute"
   ]
  },
  {
   "cell_type": "code",
   "execution_count": 167,
   "id": "4020c096",
   "metadata": {},
   "outputs": [
    {
     "data": {
      "text/html": [
       "<div>\n",
       "<style scoped>\n",
       "    .dataframe tbody tr th:only-of-type {\n",
       "        vertical-align: middle;\n",
       "    }\n",
       "\n",
       "    .dataframe tbody tr th {\n",
       "        vertical-align: top;\n",
       "    }\n",
       "\n",
       "    .dataframe thead th {\n",
       "        text-align: right;\n",
       "    }\n",
       "</style>\n",
       "<table border=\"1\" class=\"dataframe\">\n",
       "  <thead>\n",
       "    <tr style=\"text-align: right;\">\n",
       "      <th></th>\n",
       "      <th>date</th>\n",
       "      <th>user</th>\n",
       "      <th>message</th>\n",
       "      <th>Year</th>\n",
       "      <th>Month</th>\n",
       "      <th>Day</th>\n",
       "      <th>hour</th>\n",
       "      <th>minutes</th>\n",
       "    </tr>\n",
       "  </thead>\n",
       "  <tbody>\n",
       "    <tr>\n",
       "      <th>0</th>\n",
       "      <td>2023-08-25 09:03:00</td>\n",
       "      <td>None</td>\n",
       "      <td>+91 95316 14708 created group \"HITK Official 27'\"</td>\n",
       "      <td>2023</td>\n",
       "      <td>August</td>\n",
       "      <td>2023-08-25</td>\n",
       "      <td>9</td>\n",
       "      <td>3</td>\n",
       "    </tr>\n",
       "    <tr>\n",
       "      <th>1</th>\n",
       "      <td>2023-08-25 09:03:00</td>\n",
       "      <td>None</td>\n",
       "      <td>You were added</td>\n",
       "      <td>2023</td>\n",
       "      <td>August</td>\n",
       "      <td>2023-08-25</td>\n",
       "      <td>9</td>\n",
       "      <td>3</td>\n",
       "    </tr>\n",
       "    <tr>\n",
       "      <th>2</th>\n",
       "      <td>2024-01-28 15:43:00</td>\n",
       "      <td>+91 80018 45577</td>\n",
       "      <td>Ye Pic to mai click kiya tha 🤌🏻🤣</td>\n",
       "      <td>2024</td>\n",
       "      <td>January</td>\n",
       "      <td>2024-01-28</td>\n",
       "      <td>15</td>\n",
       "      <td>43</td>\n",
       "    </tr>\n",
       "    <tr>\n",
       "      <th>3</th>\n",
       "      <td>2024-01-28 15:44:00</td>\n",
       "      <td>+91 80018 45577</td>\n",
       "      <td>Kaha se forward hua ye !!!😳</td>\n",
       "      <td>2024</td>\n",
       "      <td>January</td>\n",
       "      <td>2024-01-28</td>\n",
       "      <td>15</td>\n",
       "      <td>44</td>\n",
       "    </tr>\n",
       "    <tr>\n",
       "      <th>4</th>\n",
       "      <td>2024-01-28 16:39:00</td>\n",
       "      <td>+91 94508 79345</td>\n",
       "      <td>Bahut log ke pass hai</td>\n",
       "      <td>2024</td>\n",
       "      <td>January</td>\n",
       "      <td>2024-01-28</td>\n",
       "      <td>16</td>\n",
       "      <td>39</td>\n",
       "    </tr>\n",
       "  </tbody>\n",
       "</table>\n",
       "</div>"
      ],
      "text/plain": [
       "                 date             user  \\\n",
       "0 2023-08-25 09:03:00             None   \n",
       "1 2023-08-25 09:03:00             None   \n",
       "2 2024-01-28 15:43:00  +91 80018 45577   \n",
       "3 2024-01-28 15:44:00  +91 80018 45577   \n",
       "4 2024-01-28 16:39:00  +91 94508 79345   \n",
       "\n",
       "                                             message  Year    Month  \\\n",
       "0  +91 95316 14708 created group \"HITK Official 27'\"  2023   August   \n",
       "1                                     You were added  2023   August   \n",
       "2                   Ye Pic to mai click kiya tha 🤌🏻🤣  2024  January   \n",
       "3                        Kaha se forward hua ye !!!😳  2024  January   \n",
       "4                              Bahut log ke pass hai  2024  January   \n",
       "\n",
       "          Day  hour  minutes  \n",
       "0  2023-08-25     9        3  \n",
       "1  2023-08-25     9        3  \n",
       "2  2024-01-28    15       43  \n",
       "3  2024-01-28    15       44  \n",
       "4  2024-01-28    16       39  "
      ]
     },
     "execution_count": 167,
     "metadata": {},
     "output_type": "execute_result"
    }
   ],
   "source": [
    "df.head()"
   ]
  },
  {
   "cell_type": "code",
   "execution_count": 168,
   "id": "9138ce54",
   "metadata": {},
   "outputs": [],
   "source": [
    "words=[]\n",
    "for m in df['message']:\n",
    "    words.extend(m.split())"
   ]
  },
  {
   "cell_type": "code",
   "execution_count": 169,
   "id": "2b0c7e17",
   "metadata": {},
   "outputs": [
    {
     "data": {
      "text/plain": [
       "25203"
      ]
     },
     "execution_count": 169,
     "metadata": {},
     "output_type": "execute_result"
    }
   ],
   "source": [
    "len(words)"
   ]
  },
  {
   "cell_type": "code",
   "execution_count": 170,
   "id": "0b1a7303",
   "metadata": {},
   "outputs": [],
   "source": [
    "total_media_shared = df[df['message'] == '<Media omitted>\\n'].shape[0]\n"
   ]
  },
  {
   "cell_type": "code",
   "execution_count": 171,
   "id": "679d6c0e",
   "metadata": {},
   "outputs": [
    {
     "data": {
      "text/plain": [
       "0"
      ]
     },
     "execution_count": 171,
     "metadata": {},
     "output_type": "execute_result"
    }
   ],
   "source": [
    "total_media_shared\n"
   ]
  },
  {
   "cell_type": "code",
   "execution_count": 172,
   "id": "b6cdc33b",
   "metadata": {},
   "outputs": [
    {
     "name": "stdout",
     "output_type": "stream",
     "text": [
      "At least one message contains 'Media omitted'\n"
     ]
    }
   ],
   "source": [
    "# Check if any message contains \"Media omitted\"\n",
    "contains_media_omitted = df['message'].str.contains('Media omitted', case=False, na=False).any()\n",
    "\n",
    "if contains_media_omitted:\n",
    "    print(\"At least one message contains 'Media omitted'\")\n",
    "else:\n",
    "    print(\"No message contains 'Media omitted'\")"
   ]
  },
  {
   "cell_type": "code",
   "execution_count": 173,
   "id": "2caeb96b",
   "metadata": {},
   "outputs": [],
   "source": [
    "media_omitted_count = df['message'].str.count('Media omitted').sum()\n"
   ]
  },
  {
   "cell_type": "code",
   "execution_count": 174,
   "id": "cd2c7672",
   "metadata": {},
   "outputs": [
    {
     "data": {
      "text/plain": [
       "560"
      ]
     },
     "execution_count": 174,
     "metadata": {},
     "output_type": "execute_result"
    }
   ],
   "source": [
    "media_omitted_count\n"
   ]
  },
  {
   "cell_type": "code",
   "execution_count": 175,
   "id": "87b9815c",
   "metadata": {},
   "outputs": [
    {
     "name": "stdout",
     "output_type": "stream",
     "text": [
      "One message containing 'Media omitted':\n",
      "<Media omitted>\n"
     ]
    }
   ],
   "source": [
    "# Filter the DataFrame for messages containing \"Media omitted\"\n",
    "media_omitted_messages = df[df['message'].str.contains('Media omitted')]\n",
    "\n",
    "# Print any one message containing \"Media omitted\"\n",
    "if not media_omitted_messages.empty:\n",
    "    print(\"One message containing 'Media omitted':\")\n",
    "    print(media_omitted_messages.iloc[0]['message'])\n",
    "else:\n",
    "    print(\"No message containing 'Media omitted' found.\")"
   ]
  },
  {
   "cell_type": "code",
   "execution_count": 176,
   "id": "a55ebd45",
   "metadata": {},
   "outputs": [],
   "source": [
    "from urlextract import URLExtract\n",
    "extractor=URLExtract()\n",
    "urls=extractor.find_urls(\"www.gmail.com\")"
   ]
  },
  {
   "cell_type": "code",
   "execution_count": 177,
   "id": "bb2ca544",
   "metadata": {},
   "outputs": [
    {
     "data": {
      "text/plain": [
       "['www.gmail.com']"
      ]
     },
     "execution_count": 177,
     "metadata": {},
     "output_type": "execute_result"
    }
   ],
   "source": [
    "urls"
   ]
  },
  {
   "cell_type": "code",
   "execution_count": 178,
   "id": "70886af4",
   "metadata": {},
   "outputs": [],
   "source": [
    "links=[]\n",
    "for messages in df['message']:\n",
    "    links.extend(extractor.find_urls(messages))"
   ]
  },
  {
   "cell_type": "code",
   "execution_count": 179,
   "id": "9cb7437c",
   "metadata": {},
   "outputs": [
    {
     "data": {
      "text/plain": [
       "48"
      ]
     },
     "execution_count": 179,
     "metadata": {},
     "output_type": "execute_result"
    }
   ],
   "source": [
    "len(links)"
   ]
  },
  {
   "cell_type": "code",
   "execution_count": 180,
   "id": "19e4de34",
   "metadata": {},
   "outputs": [
    {
     "data": {
      "text/plain": [
       "user\n",
       "+91 90511 97772    566\n",
       "+91 79803 84252    497\n",
       "+91 70014 65132    282\n",
       "+91 87773 27876    186\n",
       "+91 62895 55055    174\n",
       "                  ... \n",
       "+91 62018 27886      1\n",
       "+91 86972 45778      1\n",
       "+91 90605 97801      1\n",
       "+91 81709 72994      1\n",
       "+91 97989 41709      1\n",
       "Name: count, Length: 265, dtype: int64"
      ]
     },
     "execution_count": 180,
     "metadata": {},
     "output_type": "execute_result"
    }
   ],
   "source": [
    "df['user'].value_counts()"
   ]
  },
  {
   "cell_type": "code",
   "execution_count": 181,
   "id": "8cfc40f6",
   "metadata": {},
   "outputs": [],
   "source": [
    "df['percentage_of_messages']=(df['user'].value_counts()/df.shape[0])*100"
   ]
  },
  {
   "cell_type": "code",
   "execution_count": 182,
   "id": "cbc94f9d",
   "metadata": {},
   "outputs": [
    {
     "data": {
      "text/html": [
       "<div>\n",
       "<style scoped>\n",
       "    .dataframe tbody tr th:only-of-type {\n",
       "        vertical-align: middle;\n",
       "    }\n",
       "\n",
       "    .dataframe tbody tr th {\n",
       "        vertical-align: top;\n",
       "    }\n",
       "\n",
       "    .dataframe thead th {\n",
       "        text-align: right;\n",
       "    }\n",
       "</style>\n",
       "<table border=\"1\" class=\"dataframe\">\n",
       "  <thead>\n",
       "    <tr style=\"text-align: right;\">\n",
       "      <th></th>\n",
       "      <th>date</th>\n",
       "      <th>user</th>\n",
       "      <th>message</th>\n",
       "      <th>Year</th>\n",
       "      <th>Month</th>\n",
       "      <th>Day</th>\n",
       "      <th>hour</th>\n",
       "      <th>minutes</th>\n",
       "      <th>percentage_of_messages</th>\n",
       "    </tr>\n",
       "  </thead>\n",
       "  <tbody>\n",
       "    <tr>\n",
       "      <th>0</th>\n",
       "      <td>2023-08-25 09:03:00</td>\n",
       "      <td>None</td>\n",
       "      <td>+91 95316 14708 created group \"HITK Official 27'\"</td>\n",
       "      <td>2023</td>\n",
       "      <td>August</td>\n",
       "      <td>2023-08-25</td>\n",
       "      <td>9</td>\n",
       "      <td>3</td>\n",
       "      <td>NaN</td>\n",
       "    </tr>\n",
       "    <tr>\n",
       "      <th>1</th>\n",
       "      <td>2023-08-25 09:03:00</td>\n",
       "      <td>None</td>\n",
       "      <td>You were added</td>\n",
       "      <td>2023</td>\n",
       "      <td>August</td>\n",
       "      <td>2023-08-25</td>\n",
       "      <td>9</td>\n",
       "      <td>3</td>\n",
       "      <td>NaN</td>\n",
       "    </tr>\n",
       "    <tr>\n",
       "      <th>2</th>\n",
       "      <td>2024-01-28 15:43:00</td>\n",
       "      <td>+91 80018 45577</td>\n",
       "      <td>Ye Pic to mai click kiya tha 🤌🏻🤣</td>\n",
       "      <td>2024</td>\n",
       "      <td>January</td>\n",
       "      <td>2024-01-28</td>\n",
       "      <td>15</td>\n",
       "      <td>43</td>\n",
       "      <td>NaN</td>\n",
       "    </tr>\n",
       "    <tr>\n",
       "      <th>3</th>\n",
       "      <td>2024-01-28 15:44:00</td>\n",
       "      <td>+91 80018 45577</td>\n",
       "      <td>Kaha se forward hua ye !!!😳</td>\n",
       "      <td>2024</td>\n",
       "      <td>January</td>\n",
       "      <td>2024-01-28</td>\n",
       "      <td>15</td>\n",
       "      <td>44</td>\n",
       "      <td>NaN</td>\n",
       "    </tr>\n",
       "    <tr>\n",
       "      <th>4</th>\n",
       "      <td>2024-01-28 16:39:00</td>\n",
       "      <td>+91 94508 79345</td>\n",
       "      <td>Bahut log ke pass hai</td>\n",
       "      <td>2024</td>\n",
       "      <td>January</td>\n",
       "      <td>2024-01-28</td>\n",
       "      <td>16</td>\n",
       "      <td>39</td>\n",
       "      <td>NaN</td>\n",
       "    </tr>\n",
       "  </tbody>\n",
       "</table>\n",
       "</div>"
      ],
      "text/plain": [
       "                 date             user  \\\n",
       "0 2023-08-25 09:03:00             None   \n",
       "1 2023-08-25 09:03:00             None   \n",
       "2 2024-01-28 15:43:00  +91 80018 45577   \n",
       "3 2024-01-28 15:44:00  +91 80018 45577   \n",
       "4 2024-01-28 16:39:00  +91 94508 79345   \n",
       "\n",
       "                                             message  Year    Month  \\\n",
       "0  +91 95316 14708 created group \"HITK Official 27'\"  2023   August   \n",
       "1                                     You were added  2023   August   \n",
       "2                   Ye Pic to mai click kiya tha 🤌🏻🤣  2024  January   \n",
       "3                        Kaha se forward hua ye !!!😳  2024  January   \n",
       "4                              Bahut log ke pass hai  2024  January   \n",
       "\n",
       "          Day  hour  minutes  percentage_of_messages  \n",
       "0  2023-08-25     9        3                     NaN  \n",
       "1  2023-08-25     9        3                     NaN  \n",
       "2  2024-01-28    15       43                     NaN  \n",
       "3  2024-01-28    15       44                     NaN  \n",
       "4  2024-01-28    16       39                     NaN  "
      ]
     },
     "execution_count": 182,
     "metadata": {},
     "output_type": "execute_result"
    }
   ],
   "source": [
    "df.head()"
   ]
  },
  {
   "cell_type": "code",
   "execution_count": 183,
   "id": "c9563f7c",
   "metadata": {},
   "outputs": [
    {
     "data": {
      "text/html": [
       "<div>\n",
       "<style scoped>\n",
       "    .dataframe tbody tr th:only-of-type {\n",
       "        vertical-align: middle;\n",
       "    }\n",
       "\n",
       "    .dataframe tbody tr th {\n",
       "        vertical-align: top;\n",
       "    }\n",
       "\n",
       "    .dataframe thead th {\n",
       "        text-align: right;\n",
       "    }\n",
       "</style>\n",
       "<table border=\"1\" class=\"dataframe\">\n",
       "  <thead>\n",
       "    <tr style=\"text-align: right;\">\n",
       "      <th></th>\n",
       "      <th>Phone_number</th>\n",
       "      <th>Percent</th>\n",
       "    </tr>\n",
       "  </thead>\n",
       "  <tbody>\n",
       "    <tr>\n",
       "      <th>0</th>\n",
       "      <td>+91 90511 97772</td>\n",
       "      <td>13.04</td>\n",
       "    </tr>\n",
       "    <tr>\n",
       "      <th>1</th>\n",
       "      <td>+91 79803 84252</td>\n",
       "      <td>11.45</td>\n",
       "    </tr>\n",
       "    <tr>\n",
       "      <th>2</th>\n",
       "      <td>+91 70014 65132</td>\n",
       "      <td>6.50</td>\n",
       "    </tr>\n",
       "    <tr>\n",
       "      <th>3</th>\n",
       "      <td>+91 87773 27876</td>\n",
       "      <td>4.29</td>\n",
       "    </tr>\n",
       "    <tr>\n",
       "      <th>4</th>\n",
       "      <td>+91 62895 55055</td>\n",
       "      <td>4.01</td>\n",
       "    </tr>\n",
       "    <tr>\n",
       "      <th>...</th>\n",
       "      <td>...</td>\n",
       "      <td>...</td>\n",
       "    </tr>\n",
       "    <tr>\n",
       "      <th>260</th>\n",
       "      <td>+91 62018 27886</td>\n",
       "      <td>0.02</td>\n",
       "    </tr>\n",
       "    <tr>\n",
       "      <th>261</th>\n",
       "      <td>+91 86972 45778</td>\n",
       "      <td>0.02</td>\n",
       "    </tr>\n",
       "    <tr>\n",
       "      <th>262</th>\n",
       "      <td>+91 90605 97801</td>\n",
       "      <td>0.02</td>\n",
       "    </tr>\n",
       "    <tr>\n",
       "      <th>263</th>\n",
       "      <td>+91 81709 72994</td>\n",
       "      <td>0.02</td>\n",
       "    </tr>\n",
       "    <tr>\n",
       "      <th>264</th>\n",
       "      <td>+91 97989 41709</td>\n",
       "      <td>0.02</td>\n",
       "    </tr>\n",
       "  </tbody>\n",
       "</table>\n",
       "<p>265 rows × 2 columns</p>\n",
       "</div>"
      ],
      "text/plain": [
       "        Phone_number  Percent\n",
       "0    +91 90511 97772    13.04\n",
       "1    +91 79803 84252    11.45\n",
       "2    +91 70014 65132     6.50\n",
       "3    +91 87773 27876     4.29\n",
       "4    +91 62895 55055     4.01\n",
       "..               ...      ...\n",
       "260  +91 62018 27886     0.02\n",
       "261  +91 86972 45778     0.02\n",
       "262  +91 90605 97801     0.02\n",
       "263  +91 81709 72994     0.02\n",
       "264  +91 97989 41709     0.02\n",
       "\n",
       "[265 rows x 2 columns]"
      ]
     },
     "execution_count": 183,
     "metadata": {},
     "output_type": "execute_result"
    }
   ],
   "source": [
    "round((df['user'].value_counts()/df.shape[0])*100,2).reset_index().rename(columns={\"count\":\"Percent\",\"user\":\"Phone_number\"})"
   ]
  },
  {
   "cell_type": "code",
   "execution_count": 184,
   "id": "3ade67f9",
   "metadata": {},
   "outputs": [],
   "source": [
    "words=[]\n",
    "for messages in df['message']:\n",
    "    words.extend(messages.split())"
   ]
  },
  {
   "cell_type": "code",
   "execution_count": 185,
   "id": "1aeb0bec",
   "metadata": {},
   "outputs": [],
   "source": [
    "from collections import  Counter"
   ]
  },
  {
   "cell_type": "code",
   "execution_count": 186,
   "id": "d3855ef9",
   "metadata": {},
   "outputs": [
    {
     "data": {
      "text/html": [
       "<div>\n",
       "<style scoped>\n",
       "    .dataframe tbody tr th:only-of-type {\n",
       "        vertical-align: middle;\n",
       "    }\n",
       "\n",
       "    .dataframe tbody tr th {\n",
       "        vertical-align: top;\n",
       "    }\n",
       "\n",
       "    .dataframe thead th {\n",
       "        text-align: right;\n",
       "    }\n",
       "</style>\n",
       "<table border=\"1\" class=\"dataframe\">\n",
       "  <thead>\n",
       "    <tr style=\"text-align: right;\">\n",
       "      <th></th>\n",
       "      <th>0</th>\n",
       "      <th>1</th>\n",
       "    </tr>\n",
       "  </thead>\n",
       "  <tbody>\n",
       "    <tr>\n",
       "      <th>0</th>\n",
       "      <td>&lt;Media</td>\n",
       "      <td>560</td>\n",
       "    </tr>\n",
       "    <tr>\n",
       "      <th>1</th>\n",
       "      <td>omitted&gt;</td>\n",
       "      <td>560</td>\n",
       "    </tr>\n",
       "    <tr>\n",
       "      <th>2</th>\n",
       "      <td>to</td>\n",
       "      <td>384</td>\n",
       "    </tr>\n",
       "    <tr>\n",
       "      <th>3</th>\n",
       "      <td>the</td>\n",
       "      <td>354</td>\n",
       "    </tr>\n",
       "    <tr>\n",
       "      <th>4</th>\n",
       "      <td>was</td>\n",
       "      <td>257</td>\n",
       "    </tr>\n",
       "    <tr>\n",
       "      <th>5</th>\n",
       "      <td>a</td>\n",
       "      <td>249</td>\n",
       "    </tr>\n",
       "    <tr>\n",
       "      <th>6</th>\n",
       "      <td>of</td>\n",
       "      <td>240</td>\n",
       "    </tr>\n",
       "    <tr>\n",
       "      <th>7</th>\n",
       "      <td>message</td>\n",
       "      <td>237</td>\n",
       "    </tr>\n",
       "    <tr>\n",
       "      <th>8</th>\n",
       "      <td>is</td>\n",
       "      <td>216</td>\n",
       "    </tr>\n",
       "    <tr>\n",
       "      <th>9</th>\n",
       "      <td>and</td>\n",
       "      <td>199</td>\n",
       "    </tr>\n",
       "    <tr>\n",
       "      <th>10</th>\n",
       "      <td>This</td>\n",
       "      <td>191</td>\n",
       "    </tr>\n",
       "    <tr>\n",
       "      <th>11</th>\n",
       "      <td>you</td>\n",
       "      <td>189</td>\n",
       "    </tr>\n",
       "    <tr>\n",
       "      <th>12</th>\n",
       "      <td>deleted</td>\n",
       "      <td>179</td>\n",
       "    </tr>\n",
       "    <tr>\n",
       "      <th>13</th>\n",
       "      <td>hai</td>\n",
       "      <td>164</td>\n",
       "    </tr>\n",
       "    <tr>\n",
       "      <th>14</th>\n",
       "      <td>in</td>\n",
       "      <td>150</td>\n",
       "    </tr>\n",
       "    <tr>\n",
       "      <th>15</th>\n",
       "      <td>I</td>\n",
       "      <td>130</td>\n",
       "    </tr>\n",
       "    <tr>\n",
       "      <th>16</th>\n",
       "      <td>for</td>\n",
       "      <td>122</td>\n",
       "    </tr>\n",
       "    <tr>\n",
       "      <th>17</th>\n",
       "      <td>it</td>\n",
       "      <td>121</td>\n",
       "    </tr>\n",
       "    <tr>\n",
       "      <th>18</th>\n",
       "      <td>me</td>\n",
       "      <td>120</td>\n",
       "    </tr>\n",
       "    <tr>\n",
       "      <th>19</th>\n",
       "      <td>be</td>\n",
       "      <td>94</td>\n",
       "    </tr>\n",
       "  </tbody>\n",
       "</table>\n",
       "</div>"
      ],
      "text/plain": [
       "           0    1\n",
       "0     <Media  560\n",
       "1   omitted>  560\n",
       "2         to  384\n",
       "3        the  354\n",
       "4        was  257\n",
       "5          a  249\n",
       "6         of  240\n",
       "7    message  237\n",
       "8         is  216\n",
       "9        and  199\n",
       "10      This  191\n",
       "11       you  189\n",
       "12   deleted  179\n",
       "13       hai  164\n",
       "14        in  150\n",
       "15         I  130\n",
       "16       for  122\n",
       "17        it  121\n",
       "18        me  120\n",
       "19        be   94"
      ]
     },
     "execution_count": 186,
     "metadata": {},
     "output_type": "execute_result"
    }
   ],
   "source": [
    "pd.DataFrame(Counter(words).most_common(20))"
   ]
  },
  {
   "cell_type": "code",
   "execution_count": 187,
   "id": "a8109388",
   "metadata": {},
   "outputs": [],
   "source": [
    "temp= df[df['user']!='group_notiication']"
   ]
  },
  {
   "cell_type": "code",
   "execution_count": 188,
   "id": "1e9e3314",
   "metadata": {},
   "outputs": [
    {
     "data": {
      "text/plain": [
       "(4339, 9)"
      ]
     },
     "execution_count": 188,
     "metadata": {},
     "output_type": "execute_result"
    }
   ],
   "source": [
    "temp.shape"
   ]
  },
  {
   "cell_type": "code",
   "execution_count": 189,
   "id": "1f4d1586",
   "metadata": {},
   "outputs": [],
   "source": [
    "temp=temp[temp['message']!='<Media omitted>']"
   ]
  },
  {
   "cell_type": "code",
   "execution_count": 190,
   "id": "b06782c8",
   "metadata": {},
   "outputs": [
    {
     "data": {
      "text/html": [
       "<div>\n",
       "<style scoped>\n",
       "    .dataframe tbody tr th:only-of-type {\n",
       "        vertical-align: middle;\n",
       "    }\n",
       "\n",
       "    .dataframe tbody tr th {\n",
       "        vertical-align: top;\n",
       "    }\n",
       "\n",
       "    .dataframe thead th {\n",
       "        text-align: right;\n",
       "    }\n",
       "</style>\n",
       "<table border=\"1\" class=\"dataframe\">\n",
       "  <thead>\n",
       "    <tr style=\"text-align: right;\">\n",
       "      <th></th>\n",
       "      <th>date</th>\n",
       "      <th>user</th>\n",
       "      <th>message</th>\n",
       "      <th>Year</th>\n",
       "      <th>Month</th>\n",
       "      <th>Day</th>\n",
       "      <th>hour</th>\n",
       "      <th>minutes</th>\n",
       "      <th>percentage_of_messages</th>\n",
       "    </tr>\n",
       "  </thead>\n",
       "  <tbody>\n",
       "    <tr>\n",
       "      <th>0</th>\n",
       "      <td>2023-08-25 09:03:00</td>\n",
       "      <td>None</td>\n",
       "      <td>+91 95316 14708 created group \"HITK Official 27'\"</td>\n",
       "      <td>2023</td>\n",
       "      <td>August</td>\n",
       "      <td>2023-08-25</td>\n",
       "      <td>9</td>\n",
       "      <td>3</td>\n",
       "      <td>NaN</td>\n",
       "    </tr>\n",
       "    <tr>\n",
       "      <th>1</th>\n",
       "      <td>2023-08-25 09:03:00</td>\n",
       "      <td>None</td>\n",
       "      <td>You were added</td>\n",
       "      <td>2023</td>\n",
       "      <td>August</td>\n",
       "      <td>2023-08-25</td>\n",
       "      <td>9</td>\n",
       "      <td>3</td>\n",
       "      <td>NaN</td>\n",
       "    </tr>\n",
       "    <tr>\n",
       "      <th>2</th>\n",
       "      <td>2024-01-28 15:43:00</td>\n",
       "      <td>+91 80018 45577</td>\n",
       "      <td>Ye Pic to mai click kiya tha 🤌🏻🤣</td>\n",
       "      <td>2024</td>\n",
       "      <td>January</td>\n",
       "      <td>2024-01-28</td>\n",
       "      <td>15</td>\n",
       "      <td>43</td>\n",
       "      <td>NaN</td>\n",
       "    </tr>\n",
       "    <tr>\n",
       "      <th>3</th>\n",
       "      <td>2024-01-28 15:44:00</td>\n",
       "      <td>+91 80018 45577</td>\n",
       "      <td>Kaha se forward hua ye !!!😳</td>\n",
       "      <td>2024</td>\n",
       "      <td>January</td>\n",
       "      <td>2024-01-28</td>\n",
       "      <td>15</td>\n",
       "      <td>44</td>\n",
       "      <td>NaN</td>\n",
       "    </tr>\n",
       "    <tr>\n",
       "      <th>4</th>\n",
       "      <td>2024-01-28 16:39:00</td>\n",
       "      <td>+91 94508 79345</td>\n",
       "      <td>Bahut log ke pass hai</td>\n",
       "      <td>2024</td>\n",
       "      <td>January</td>\n",
       "      <td>2024-01-28</td>\n",
       "      <td>16</td>\n",
       "      <td>39</td>\n",
       "      <td>NaN</td>\n",
       "    </tr>\n",
       "  </tbody>\n",
       "</table>\n",
       "</div>"
      ],
      "text/plain": [
       "                 date             user  \\\n",
       "0 2023-08-25 09:03:00             None   \n",
       "1 2023-08-25 09:03:00             None   \n",
       "2 2024-01-28 15:43:00  +91 80018 45577   \n",
       "3 2024-01-28 15:44:00  +91 80018 45577   \n",
       "4 2024-01-28 16:39:00  +91 94508 79345   \n",
       "\n",
       "                                             message  Year    Month  \\\n",
       "0  +91 95316 14708 created group \"HITK Official 27'\"  2023   August   \n",
       "1                                     You were added  2023   August   \n",
       "2                   Ye Pic to mai click kiya tha 🤌🏻🤣  2024  January   \n",
       "3                        Kaha se forward hua ye !!!😳  2024  January   \n",
       "4                              Bahut log ke pass hai  2024  January   \n",
       "\n",
       "          Day  hour  minutes  percentage_of_messages  \n",
       "0  2023-08-25     9        3                     NaN  \n",
       "1  2023-08-25     9        3                     NaN  \n",
       "2  2024-01-28    15       43                     NaN  \n",
       "3  2024-01-28    15       44                     NaN  \n",
       "4  2024-01-28    16       39                     NaN  "
      ]
     },
     "execution_count": 190,
     "metadata": {},
     "output_type": "execute_result"
    }
   ],
   "source": [
    "temp.head()"
   ]
  },
  {
   "cell_type": "code",
   "execution_count": 191,
   "id": "09697bbc",
   "metadata": {},
   "outputs": [
    {
     "name": "stdout",
     "output_type": "stream",
     "text": [
      "['.', '..', '...', '?', '-']\n"
     ]
    }
   ],
   "source": [
    "# Open the file and read its contents into a list\n",
    "with open(\"stop_hinglish.txt\", \"r\") as f:\n",
    "    stop_hinglish_list = f.readlines()\n",
    "\n",
    "# Strip any newline characters from each line\n",
    "stop_hinglish_list = [line.strip() for line in stop_hinglish_list]\n",
    "\n",
    "# Print the list to verify its contents\n",
    "print(stop_hinglish_list[:5])\n"
   ]
  },
  {
   "cell_type": "code",
   "execution_count": 192,
   "id": "ee81ec5f",
   "metadata": {},
   "outputs": [
    {
     "data": {
      "text/plain": [
       "1055"
      ]
     },
     "execution_count": 192,
     "metadata": {},
     "output_type": "execute_result"
    }
   ],
   "source": [
    "len(stop_hinglish_list)"
   ]
  },
  {
   "cell_type": "code",
   "execution_count": 193,
   "id": "eb3b6925",
   "metadata": {},
   "outputs": [],
   "source": [
    "stop_words=f1.read()"
   ]
  },
  {
   "cell_type": "code",
   "execution_count": 194,
   "id": "9b198f39",
   "metadata": {},
   "outputs": [
    {
     "data": {
      "text/plain": [
       "''"
      ]
     },
     "execution_count": 194,
     "metadata": {},
     "output_type": "execute_result"
    }
   ],
   "source": [
    "stop_words"
   ]
  },
  {
   "cell_type": "code",
   "execution_count": 195,
   "id": "540f41fe",
   "metadata": {},
   "outputs": [],
   "source": [
    "words=[]\n",
    "for messages in temp['message']:\n",
    "    for word in messages.lower().split():\n",
    "        if word not in stop_hinglish_list:\n",
    "            words.extend(word.split())\n",
    "#         words.extend(messages.split())"
   ]
  },
  {
   "cell_type": "code",
   "execution_count": 196,
   "id": "5b831fc4",
   "metadata": {},
   "outputs": [
    {
     "data": {
      "text/plain": [
       "13218"
      ]
     },
     "execution_count": 196,
     "metadata": {},
     "output_type": "execute_result"
    }
   ],
   "source": [
    "len(words)"
   ]
  },
  {
   "cell_type": "code",
   "execution_count": 197,
   "id": "1a31e23a",
   "metadata": {},
   "outputs": [
    {
     "data": {
      "text/html": [
       "<div>\n",
       "<style scoped>\n",
       "    .dataframe tbody tr th:only-of-type {\n",
       "        vertical-align: middle;\n",
       "    }\n",
       "\n",
       "    .dataframe tbody tr th {\n",
       "        vertical-align: top;\n",
       "    }\n",
       "\n",
       "    .dataframe thead th {\n",
       "        text-align: right;\n",
       "    }\n",
       "</style>\n",
       "<table border=\"1\" class=\"dataframe\">\n",
       "  <thead>\n",
       "    <tr style=\"text-align: right;\">\n",
       "      <th></th>\n",
       "      <th>0</th>\n",
       "      <th>1</th>\n",
       "    </tr>\n",
       "  </thead>\n",
       "  <tbody>\n",
       "    <tr>\n",
       "      <th>0</th>\n",
       "      <td>message</td>\n",
       "      <td>237</td>\n",
       "    </tr>\n",
       "    <tr>\n",
       "      <th>1</th>\n",
       "      <td>deleted</td>\n",
       "      <td>179</td>\n",
       "    </tr>\n",
       "    <tr>\n",
       "      <th>2</th>\n",
       "      <td>ai</td>\n",
       "      <td>71</td>\n",
       "    </tr>\n",
       "    <tr>\n",
       "      <th>3</th>\n",
       "      <td>e</td>\n",
       "      <td>55</td>\n",
       "    </tr>\n",
       "    <tr>\n",
       "      <th>4</th>\n",
       "      <td>&lt;this</td>\n",
       "      <td>52</td>\n",
       "    </tr>\n",
       "    <tr>\n",
       "      <th>5</th>\n",
       "      <td>edited&gt;</td>\n",
       "      <td>52</td>\n",
       "    </tr>\n",
       "    <tr>\n",
       "      <th>6</th>\n",
       "      <td>er</td>\n",
       "      <td>50</td>\n",
       "    </tr>\n",
       "    <tr>\n",
       "      <th>7</th>\n",
       "      <td>college</td>\n",
       "      <td>48</td>\n",
       "    </tr>\n",
       "    <tr>\n",
       "      <th>8</th>\n",
       "      <td>fees</td>\n",
       "      <td>45</td>\n",
       "    </tr>\n",
       "    <tr>\n",
       "      <th>9</th>\n",
       "      <td>💀</td>\n",
       "      <td>43</td>\n",
       "    </tr>\n",
       "    <tr>\n",
       "      <th>10</th>\n",
       "      <td>😂</td>\n",
       "      <td>40</td>\n",
       "    </tr>\n",
       "    <tr>\n",
       "      <th>11</th>\n",
       "      <td>h</td>\n",
       "      <td>37</td>\n",
       "    </tr>\n",
       "    <tr>\n",
       "      <th>12</th>\n",
       "      <td>🤣</td>\n",
       "      <td>33</td>\n",
       "    </tr>\n",
       "    <tr>\n",
       "      <th>13</th>\n",
       "      <td>,</td>\n",
       "      <td>33</td>\n",
       "    </tr>\n",
       "    <tr>\n",
       "      <th>14</th>\n",
       "      <td>ta</td>\n",
       "      <td>31</td>\n",
       "    </tr>\n",
       "    <tr>\n",
       "      <th>15</th>\n",
       "      <td>im</td>\n",
       "      <td>31</td>\n",
       "    </tr>\n",
       "    <tr>\n",
       "      <th>16</th>\n",
       "      <td>make</td>\n",
       "      <td>31</td>\n",
       "    </tr>\n",
       "    <tr>\n",
       "      <th>17</th>\n",
       "      <td>মোহনবাগান💚❤</td>\n",
       "      <td>31</td>\n",
       "    </tr>\n",
       "    <tr>\n",
       "      <th>18</th>\n",
       "      <td>+91</td>\n",
       "      <td>30</td>\n",
       "    </tr>\n",
       "    <tr>\n",
       "      <th>19</th>\n",
       "      <td>r</td>\n",
       "      <td>30</td>\n",
       "    </tr>\n",
       "  </tbody>\n",
       "</table>\n",
       "</div>"
      ],
      "text/plain": [
       "              0    1\n",
       "0       message  237\n",
       "1       deleted  179\n",
       "2            ai   71\n",
       "3             e   55\n",
       "4         <this   52\n",
       "5       edited>   52\n",
       "6            er   50\n",
       "7       college   48\n",
       "8          fees   45\n",
       "9             💀   43\n",
       "10            😂   40\n",
       "11            h   37\n",
       "12            🤣   33\n",
       "13            ,   33\n",
       "14           ta   31\n",
       "15           im   31\n",
       "16         make   31\n",
       "17  মোহনবাগান💚❤   31\n",
       "18          +91   30\n",
       "19            r   30"
      ]
     },
     "execution_count": 197,
     "metadata": {},
     "output_type": "execute_result"
    }
   ],
   "source": [
    "pd.DataFrame(Counter(words).most_common(20))"
   ]
  },
  {
   "cell_type": "code",
   "execution_count": 198,
   "id": "a0ee267c",
   "metadata": {},
   "outputs": [],
   "source": [
    "import emoji"
   ]
  },
  {
   "cell_type": "code",
   "execution_count": 199,
   "id": "eab1db47",
   "metadata": {},
   "outputs": [],
   "source": [
    "emojis = []\n",
    "for message in df['message']:\n",
    "    emojis.extend([c for c in message if emoji.is_emoji(c)])\n",
    "\n"
   ]
  },
  {
   "cell_type": "code",
   "execution_count": 200,
   "id": "c06d1995",
   "metadata": {},
   "outputs": [
    {
     "data": {
      "text/plain": [
       "'😳'"
      ]
     },
     "execution_count": 200,
     "metadata": {},
     "output_type": "execute_result"
    }
   ],
   "source": [
    "emojis[3]"
   ]
  },
  {
   "cell_type": "code",
   "execution_count": 201,
   "id": "f140bd3c",
   "metadata": {},
   "outputs": [
    {
     "data": {
      "text/html": [
       "<div>\n",
       "<style scoped>\n",
       "    .dataframe tbody tr th:only-of-type {\n",
       "        vertical-align: middle;\n",
       "    }\n",
       "\n",
       "    .dataframe tbody tr th {\n",
       "        vertical-align: top;\n",
       "    }\n",
       "\n",
       "    .dataframe thead th {\n",
       "        text-align: right;\n",
       "    }\n",
       "</style>\n",
       "<table border=\"1\" class=\"dataframe\">\n",
       "  <thead>\n",
       "    <tr style=\"text-align: right;\">\n",
       "      <th></th>\n",
       "      <th>0</th>\n",
       "      <th>1</th>\n",
       "    </tr>\n",
       "  </thead>\n",
       "  <tbody>\n",
       "    <tr>\n",
       "      <th>0</th>\n",
       "      <td>🤣</td>\n",
       "      <td>272</td>\n",
       "    </tr>\n",
       "    <tr>\n",
       "      <th>1</th>\n",
       "      <td>😂</td>\n",
       "      <td>146</td>\n",
       "    </tr>\n",
       "    <tr>\n",
       "      <th>2</th>\n",
       "      <td>💀</td>\n",
       "      <td>101</td>\n",
       "    </tr>\n",
       "    <tr>\n",
       "      <th>3</th>\n",
       "      <td>❤</td>\n",
       "      <td>58</td>\n",
       "    </tr>\n",
       "    <tr>\n",
       "      <th>4</th>\n",
       "      <td>💚</td>\n",
       "      <td>53</td>\n",
       "    </tr>\n",
       "    <tr>\n",
       "      <th>...</th>\n",
       "      <td>...</td>\n",
       "      <td>...</td>\n",
       "    </tr>\n",
       "    <tr>\n",
       "      <th>138</th>\n",
       "      <td>😱</td>\n",
       "      <td>1</td>\n",
       "    </tr>\n",
       "    <tr>\n",
       "      <th>139</th>\n",
       "      <td>🤨</td>\n",
       "      <td>1</td>\n",
       "    </tr>\n",
       "    <tr>\n",
       "      <th>140</th>\n",
       "      <td>🦜</td>\n",
       "      <td>1</td>\n",
       "    </tr>\n",
       "    <tr>\n",
       "      <th>141</th>\n",
       "      <td>🛐</td>\n",
       "      <td>1</td>\n",
       "    </tr>\n",
       "    <tr>\n",
       "      <th>142</th>\n",
       "      <td>🤯</td>\n",
       "      <td>1</td>\n",
       "    </tr>\n",
       "  </tbody>\n",
       "</table>\n",
       "<p>143 rows × 2 columns</p>\n",
       "</div>"
      ],
      "text/plain": [
       "     0    1\n",
       "0    🤣  272\n",
       "1    😂  146\n",
       "2    💀  101\n",
       "3    ❤   58\n",
       "4    💚   53\n",
       "..  ..  ...\n",
       "138  😱    1\n",
       "139  🤨    1\n",
       "140  🦜    1\n",
       "141  🛐    1\n",
       "142  🤯    1\n",
       "\n",
       "[143 rows x 2 columns]"
      ]
     },
     "execution_count": 201,
     "metadata": {},
     "output_type": "execute_result"
    }
   ],
   "source": [
    "pd.DataFrame(Counter(emojis).most_common(len(Counter(emojis))))"
   ]
  },
  {
   "cell_type": "code",
   "execution_count": 202,
   "id": "7b4e14f1",
   "metadata": {},
   "outputs": [],
   "source": [
    "e_df=pd.DataFrame(emojis)"
   ]
  },
  {
   "cell_type": "code",
   "execution_count": 203,
   "id": "6f0d0008",
   "metadata": {},
   "outputs": [
    {
     "data": {
      "text/html": [
       "<div>\n",
       "<style scoped>\n",
       "    .dataframe tbody tr th:only-of-type {\n",
       "        vertical-align: middle;\n",
       "    }\n",
       "\n",
       "    .dataframe tbody tr th {\n",
       "        vertical-align: top;\n",
       "    }\n",
       "\n",
       "    .dataframe thead th {\n",
       "        text-align: right;\n",
       "    }\n",
       "</style>\n",
       "<table border=\"1\" class=\"dataframe\">\n",
       "  <thead>\n",
       "    <tr style=\"text-align: right;\">\n",
       "      <th></th>\n",
       "      <th>0</th>\n",
       "    </tr>\n",
       "  </thead>\n",
       "  <tbody>\n",
       "    <tr>\n",
       "      <th>0</th>\n",
       "      <td>🤌</td>\n",
       "    </tr>\n",
       "    <tr>\n",
       "      <th>1</th>\n",
       "      <td>🏻</td>\n",
       "    </tr>\n",
       "    <tr>\n",
       "      <th>2</th>\n",
       "      <td>🤣</td>\n",
       "    </tr>\n",
       "    <tr>\n",
       "      <th>3</th>\n",
       "      <td>😳</td>\n",
       "    </tr>\n",
       "    <tr>\n",
       "      <th>4</th>\n",
       "      <td>🌚</td>\n",
       "    </tr>\n",
       "  </tbody>\n",
       "</table>\n",
       "</div>"
      ],
      "text/plain": [
       "   0\n",
       "0  🤌\n",
       "1  🏻\n",
       "2  🤣\n",
       "3  😳\n",
       "4  🌚"
      ]
     },
     "execution_count": 203,
     "metadata": {},
     "output_type": "execute_result"
    }
   ],
   "source": [
    "e_df.head()"
   ]
  },
  {
   "cell_type": "code",
   "execution_count": 204,
   "id": "16a7dbd0",
   "metadata": {},
   "outputs": [],
   "source": [
    "# Create a DataFrame with the emoji column\n",
    "e_df = pd.DataFrame(emojis, columns=['emoji'])\n",
    "\n",
    "# Calculate the counts of each emoji\n",
    "emoji_counts = e_df['emoji'].value_counts().reset_index()\n",
    "emoji_counts.columns = ['emoji', 'count']\n",
    "\n",
    "# Sort the DataFrame by the number of occurrences in descending order\n",
    "e_df_sorted = emoji_counts.sort_values(by='count', ascending=False)\n"
   ]
  },
  {
   "cell_type": "code",
   "execution_count": 205,
   "id": "f04636e4",
   "metadata": {},
   "outputs": [
    {
     "data": {
      "text/html": [
       "<div>\n",
       "<style scoped>\n",
       "    .dataframe tbody tr th:only-of-type {\n",
       "        vertical-align: middle;\n",
       "    }\n",
       "\n",
       "    .dataframe tbody tr th {\n",
       "        vertical-align: top;\n",
       "    }\n",
       "\n",
       "    .dataframe thead th {\n",
       "        text-align: right;\n",
       "    }\n",
       "</style>\n",
       "<table border=\"1\" class=\"dataframe\">\n",
       "  <thead>\n",
       "    <tr style=\"text-align: right;\">\n",
       "      <th></th>\n",
       "      <th>emoji</th>\n",
       "      <th>count</th>\n",
       "    </tr>\n",
       "  </thead>\n",
       "  <tbody>\n",
       "    <tr>\n",
       "      <th>0</th>\n",
       "      <td>🤣</td>\n",
       "      <td>272</td>\n",
       "    </tr>\n",
       "    <tr>\n",
       "      <th>1</th>\n",
       "      <td>😂</td>\n",
       "      <td>146</td>\n",
       "    </tr>\n",
       "    <tr>\n",
       "      <th>2</th>\n",
       "      <td>💀</td>\n",
       "      <td>101</td>\n",
       "    </tr>\n",
       "    <tr>\n",
       "      <th>3</th>\n",
       "      <td>❤</td>\n",
       "      <td>58</td>\n",
       "    </tr>\n",
       "    <tr>\n",
       "      <th>4</th>\n",
       "      <td>💚</td>\n",
       "      <td>53</td>\n",
       "    </tr>\n",
       "  </tbody>\n",
       "</table>\n",
       "</div>"
      ],
      "text/plain": [
       "  emoji  count\n",
       "0     🤣    272\n",
       "1     😂    146\n",
       "2     💀    101\n",
       "3     ❤     58\n",
       "4     💚     53"
      ]
     },
     "execution_count": 205,
     "metadata": {},
     "output_type": "execute_result"
    }
   ],
   "source": [
    "e_df_sorted.head()"
   ]
  },
  {
   "cell_type": "code",
   "execution_count": 206,
   "id": "02d90804",
   "metadata": {},
   "outputs": [],
   "source": [
    "df['month_number'] = df['date'].dt.month"
   ]
  },
  {
   "cell_type": "code",
   "execution_count": 207,
   "id": "968e5414",
   "metadata": {},
   "outputs": [],
   "source": [
    "timeline=df.groupby(['Year','month_number','Month']).count()['message'].reset_index()"
   ]
  },
  {
   "cell_type": "code",
   "execution_count": 208,
   "id": "b0b710e8",
   "metadata": {},
   "outputs": [
    {
     "data": {
      "text/plain": [
       "(7, 4)"
      ]
     },
     "execution_count": 208,
     "metadata": {},
     "output_type": "execute_result"
    }
   ],
   "source": [
    "timeline.shape"
   ]
  },
  {
   "cell_type": "code",
   "execution_count": 209,
   "id": "77228658",
   "metadata": {},
   "outputs": [
    {
     "data": {
      "text/html": [
       "<div>\n",
       "<style scoped>\n",
       "    .dataframe tbody tr th:only-of-type {\n",
       "        vertical-align: middle;\n",
       "    }\n",
       "\n",
       "    .dataframe tbody tr th {\n",
       "        vertical-align: top;\n",
       "    }\n",
       "\n",
       "    .dataframe thead th {\n",
       "        text-align: right;\n",
       "    }\n",
       "</style>\n",
       "<table border=\"1\" class=\"dataframe\">\n",
       "  <thead>\n",
       "    <tr style=\"text-align: right;\">\n",
       "      <th></th>\n",
       "      <th>Year</th>\n",
       "      <th>month_number</th>\n",
       "      <th>Month</th>\n",
       "      <th>message</th>\n",
       "    </tr>\n",
       "  </thead>\n",
       "  <tbody>\n",
       "    <tr>\n",
       "      <th>0</th>\n",
       "      <td>2023</td>\n",
       "      <td>8</td>\n",
       "      <td>August</td>\n",
       "      <td>2</td>\n",
       "    </tr>\n",
       "    <tr>\n",
       "      <th>1</th>\n",
       "      <td>2024</td>\n",
       "      <td>1</td>\n",
       "      <td>January</td>\n",
       "      <td>21</td>\n",
       "    </tr>\n",
       "    <tr>\n",
       "      <th>2</th>\n",
       "      <td>2024</td>\n",
       "      <td>2</td>\n",
       "      <td>February</td>\n",
       "      <td>1589</td>\n",
       "    </tr>\n",
       "    <tr>\n",
       "      <th>3</th>\n",
       "      <td>2024</td>\n",
       "      <td>3</td>\n",
       "      <td>March</td>\n",
       "      <td>686</td>\n",
       "    </tr>\n",
       "    <tr>\n",
       "      <th>4</th>\n",
       "      <td>2024</td>\n",
       "      <td>4</td>\n",
       "      <td>April</td>\n",
       "      <td>656</td>\n",
       "    </tr>\n",
       "  </tbody>\n",
       "</table>\n",
       "</div>"
      ],
      "text/plain": [
       "   Year  month_number     Month  message\n",
       "0  2023             8    August        2\n",
       "1  2024             1   January       21\n",
       "2  2024             2  February     1589\n",
       "3  2024             3     March      686\n",
       "4  2024             4     April      656"
      ]
     },
     "execution_count": 209,
     "metadata": {},
     "output_type": "execute_result"
    }
   ],
   "source": [
    "timeline.head()"
   ]
  },
  {
   "cell_type": "code",
   "execution_count": 210,
   "id": "daf943ae",
   "metadata": {},
   "outputs": [],
   "source": [
    "time = []\n",
    "for i in range(timeline.shape[0]):\n",
    "    time.append(timeline['Month'][i] + \"-\" + str(timeline['Year'][i]))\n"
   ]
  },
  {
   "cell_type": "code",
   "execution_count": 211,
   "id": "1688f44c",
   "metadata": {},
   "outputs": [
    {
     "data": {
      "text/html": [
       "<div>\n",
       "<style scoped>\n",
       "    .dataframe tbody tr th:only-of-type {\n",
       "        vertical-align: middle;\n",
       "    }\n",
       "\n",
       "    .dataframe tbody tr th {\n",
       "        vertical-align: top;\n",
       "    }\n",
       "\n",
       "    .dataframe thead th {\n",
       "        text-align: right;\n",
       "    }\n",
       "</style>\n",
       "<table border=\"1\" class=\"dataframe\">\n",
       "  <thead>\n",
       "    <tr style=\"text-align: right;\">\n",
       "      <th></th>\n",
       "      <th>Year</th>\n",
       "      <th>month_number</th>\n",
       "      <th>Month</th>\n",
       "      <th>message</th>\n",
       "      <th>time</th>\n",
       "    </tr>\n",
       "  </thead>\n",
       "  <tbody>\n",
       "    <tr>\n",
       "      <th>0</th>\n",
       "      <td>2023</td>\n",
       "      <td>8</td>\n",
       "      <td>August</td>\n",
       "      <td>2</td>\n",
       "      <td>August-2023</td>\n",
       "    </tr>\n",
       "    <tr>\n",
       "      <th>1</th>\n",
       "      <td>2024</td>\n",
       "      <td>1</td>\n",
       "      <td>January</td>\n",
       "      <td>21</td>\n",
       "      <td>January-2024</td>\n",
       "    </tr>\n",
       "    <tr>\n",
       "      <th>2</th>\n",
       "      <td>2024</td>\n",
       "      <td>2</td>\n",
       "      <td>February</td>\n",
       "      <td>1589</td>\n",
       "      <td>February-2024</td>\n",
       "    </tr>\n",
       "    <tr>\n",
       "      <th>3</th>\n",
       "      <td>2024</td>\n",
       "      <td>3</td>\n",
       "      <td>March</td>\n",
       "      <td>686</td>\n",
       "      <td>March-2024</td>\n",
       "    </tr>\n",
       "    <tr>\n",
       "      <th>4</th>\n",
       "      <td>2024</td>\n",
       "      <td>4</td>\n",
       "      <td>April</td>\n",
       "      <td>656</td>\n",
       "      <td>April-2024</td>\n",
       "    </tr>\n",
       "    <tr>\n",
       "      <th>5</th>\n",
       "      <td>2024</td>\n",
       "      <td>5</td>\n",
       "      <td>May</td>\n",
       "      <td>1198</td>\n",
       "      <td>May-2024</td>\n",
       "    </tr>\n",
       "    <tr>\n",
       "      <th>6</th>\n",
       "      <td>2024</td>\n",
       "      <td>6</td>\n",
       "      <td>June</td>\n",
       "      <td>187</td>\n",
       "      <td>June-2024</td>\n",
       "    </tr>\n",
       "  </tbody>\n",
       "</table>\n",
       "</div>"
      ],
      "text/plain": [
       "   Year  month_number     Month  message           time\n",
       "0  2023             8    August        2    August-2023\n",
       "1  2024             1   January       21   January-2024\n",
       "2  2024             2  February     1589  February-2024\n",
       "3  2024             3     March      686     March-2024\n",
       "4  2024             4     April      656     April-2024\n",
       "5  2024             5       May     1198       May-2024\n",
       "6  2024             6      June      187      June-2024"
      ]
     },
     "execution_count": 211,
     "metadata": {},
     "output_type": "execute_result"
    }
   ],
   "source": [
    "timeline['time']=time\n",
    "timeline"
   ]
  },
  {
   "cell_type": "code",
   "execution_count": 212,
   "id": "07386c90",
   "metadata": {},
   "outputs": [],
   "source": [
    "import matplotlib.pyplot as plt"
   ]
  },
  {
   "cell_type": "code",
   "execution_count": 213,
   "id": "8c8cd3db",
   "metadata": {},
   "outputs": [
    {
     "data": {
      "text/plain": [
       "([0, 1, 2, 3, 4, 5, 6],\n",
       " [Text(0, 0, 'August-2023'),\n",
       "  Text(1, 0, 'January-2024'),\n",
       "  Text(2, 0, 'February-2024'),\n",
       "  Text(3, 0, 'March-2024'),\n",
       "  Text(4, 0, 'April-2024'),\n",
       "  Text(5, 0, 'May-2024'),\n",
       "  Text(6, 0, 'June-2024')])"
      ]
     },
     "execution_count": 213,
     "metadata": {},
     "output_type": "execute_result"
    },
    {
     "data": {
      "image/png": "[encoded data removed]",
      "text/plain": [
       "<Figure size 640x480 with 1 Axes>"
      ]
     },
     "metadata": {},
     "output_type": "display_data"
    }
   ],
   "source": [
    "plt.plot(timeline['time'],timeline['message'])\n",
    "plt.xticks(rotation='vertical')"
   ]
  },
  {
   "cell_type": "code",
   "execution_count": 214,
   "id": "40484d68",
   "metadata": {},
   "outputs": [],
   "source": [
    "df['only_date']=df['date'].dt.date"
   ]
  },
  {
   "cell_type": "code",
   "execution_count": 215,
   "id": "12fb5338",
   "metadata": {},
   "outputs": [],
   "source": [
    "daily_timeline=df.groupby('only_date').count()['message'].reset_index()"
   ]
  },
  {
   "cell_type": "code",
   "execution_count": 216,
   "id": "61de2f1f",
   "metadata": {},
   "outputs": [
    {
     "data": {
      "text/plain": [
       "[<matplotlib.lines.Line2D at 0x265d7a48ed0>]"
      ]
     },
     "execution_count": 216,
     "metadata": {},
     "output_type": "execute_result"
    },
    {
     "data": {
      "image/png": "[encoded data removed]",
      "text/plain": [
       "<Figure size 2000x1000 with 1 Axes>"
      ]
     },
     "metadata": {},
     "output_type": "display_data"
    }
   ],
   "source": [
    "plt.figure(figsize=(20,10))\n",
    "plt.plot(daily_timeline['only_date'],daily_timeline['message'])"
   ]
  },
  {
   "cell_type": "code",
   "execution_count": 217,
   "id": "b1cf266c",
   "metadata": {},
   "outputs": [
    {
     "data": {
      "text/html": [
       "<div>\n",
       "<style scoped>\n",
       "    .dataframe tbody tr th:only-of-type {\n",
       "        vertical-align: middle;\n",
       "    }\n",
       "\n",
       "    .dataframe tbody tr th {\n",
       "        vertical-align: top;\n",
       "    }\n",
       "\n",
       "    .dataframe thead th {\n",
       "        text-align: right;\n",
       "    }\n",
       "</style>\n",
       "<table border=\"1\" class=\"dataframe\">\n",
       "  <thead>\n",
       "    <tr style=\"text-align: right;\">\n",
       "      <th></th>\n",
       "      <th>date</th>\n",
       "      <th>user</th>\n",
       "      <th>message</th>\n",
       "      <th>Year</th>\n",
       "      <th>Month</th>\n",
       "      <th>Day</th>\n",
       "      <th>hour</th>\n",
       "      <th>minutes</th>\n",
       "      <th>percentage_of_messages</th>\n",
       "      <th>month_number</th>\n",
       "      <th>only_date</th>\n",
       "    </tr>\n",
       "  </thead>\n",
       "  <tbody>\n",
       "    <tr>\n",
       "      <th>0</th>\n",
       "      <td>2023-08-25 09:03:00</td>\n",
       "      <td>None</td>\n",
       "      <td>+91 95316 14708 created group \"HITK Official 27'\"</td>\n",
       "      <td>2023</td>\n",
       "      <td>August</td>\n",
       "      <td>2023-08-25</td>\n",
       "      <td>9</td>\n",
       "      <td>3</td>\n",
       "      <td>NaN</td>\n",
       "      <td>8</td>\n",
       "      <td>2023-08-25</td>\n",
       "    </tr>\n",
       "  </tbody>\n",
       "</table>\n",
       "</div>"
      ],
      "text/plain": [
       "                 date  user  \\\n",
       "0 2023-08-25 09:03:00  None   \n",
       "\n",
       "                                             message  Year   Month  \\\n",
       "0  +91 95316 14708 created group \"HITK Official 27'\"  2023  August   \n",
       "\n",
       "          Day  hour  minutes  percentage_of_messages  month_number   only_date  \n",
       "0  2023-08-25     9        3                     NaN             8  2023-08-25  "
      ]
     },
     "execution_count": 217,
     "metadata": {},
     "output_type": "execute_result"
    }
   ],
   "source": [
    "df.head(1)"
   ]
  },
  {
   "cell_type": "code",
   "execution_count": 218,
   "id": "a50cfab7",
   "metadata": {},
   "outputs": [
    {
     "data": {
      "text/plain": [
       "0      2023-08-25 09:03:00\n",
       "1      2023-08-25 09:03:00\n",
       "2      2024-01-28 15:43:00\n",
       "3      2024-01-28 15:44:00\n",
       "4      2024-01-28 16:39:00\n",
       "               ...        \n",
       "4334   2024-06-02 00:54:00\n",
       "4335   2024-06-02 00:54:00\n",
       "4336   2024-06-02 01:01:00\n",
       "4337   2024-06-02 01:06:00\n",
       "4338   2024-06-02 01:28:00\n",
       "Name: date, Length: 4339, dtype: datetime64[ns]"
      ]
     },
     "execution_count": 218,
     "metadata": {},
     "output_type": "execute_result"
    }
   ],
   "source": [
    "df['date']"
   ]
  },
  {
   "cell_type": "code",
   "execution_count": 219,
   "id": "1b66fac3",
   "metadata": {},
   "outputs": [],
   "source": [
    "df['day_name']=df['date'].dt.day_name()"
   ]
  },
  {
   "cell_type": "code",
   "execution_count": 220,
   "id": "833e884a",
   "metadata": {},
   "outputs": [],
   "source": [
    "# Assuming 'date' column is in string format\n",
    "df['date'] = pd.to_datetime(df['date'])\n",
    "\n",
    "# Now you can use the .dt accessor\n",
    "df['day_name'] = df['date'].dt.day_name()"
   ]
  },
  {
   "cell_type": "code",
   "execution_count": 223,
   "id": "bbd03595",
   "metadata": {},
   "outputs": [
    {
     "data": {
      "text/plain": [
       "day_name\n",
       "Saturday     942\n",
       "Wednesday    812\n",
       "Tuesday      743\n",
       "Monday       649\n",
       "Sunday       511\n",
       "Thursday     412\n",
       "Friday       270\n",
       "Name: count, dtype: int64"
      ]
     },
     "execution_count": 223,
     "metadata": {},
     "output_type": "execute_result"
    }
   ],
   "source": [
    "df['day_name'].value_counts()"
   ]
  },
  {
   "cell_type": "code",
   "execution_count": 229,
   "id": "78af9801",
   "metadata": {},
   "outputs": [],
   "source": [
    "period=[]\n",
    "for hour in df[['day_name','hour']]['hour']:\n",
    "    if hour == 23:\n",
    "        period.append(str(hour) + \"-\" + str('00'))\n",
    "    elif hour==0:\n",
    "        period.append(str('00') + \"-\" + str(hour+1))\n",
    "    else:\n",
    "        period.append(str(hour) + \"-\" + str(hour+1))\n",
    "        \n",
    "df['period']=period"
   ]
  },
  {
   "cell_type": "code",
   "execution_count": 230,
   "id": "41ecb125",
   "metadata": {},
   "outputs": [
    {
     "data": {
      "text/html": [
       "<div>\n",
       "<style scoped>\n",
       "    .dataframe tbody tr th:only-of-type {\n",
       "        vertical-align: middle;\n",
       "    }\n",
       "\n",
       "    .dataframe tbody tr th {\n",
       "        vertical-align: top;\n",
       "    }\n",
       "\n",
       "    .dataframe thead th {\n",
       "        text-align: right;\n",
       "    }\n",
       "</style>\n",
       "<table border=\"1\" class=\"dataframe\">\n",
       "  <thead>\n",
       "    <tr style=\"text-align: right;\">\n",
       "      <th></th>\n",
       "      <th>date</th>\n",
       "      <th>user</th>\n",
       "      <th>message</th>\n",
       "      <th>Year</th>\n",
       "      <th>Month</th>\n",
       "      <th>Day</th>\n",
       "      <th>hour</th>\n",
       "      <th>minutes</th>\n",
       "      <th>percentage_of_messages</th>\n",
       "      <th>month_number</th>\n",
       "      <th>only_date</th>\n",
       "      <th>day_name</th>\n",
       "      <th>period</th>\n",
       "    </tr>\n",
       "  </thead>\n",
       "  <tbody>\n",
       "    <tr>\n",
       "      <th>0</th>\n",
       "      <td>2023-08-25 09:03:00</td>\n",
       "      <td>None</td>\n",
       "      <td>+91 95316 14708 created group \"HITK Official 27'\"</td>\n",
       "      <td>2023</td>\n",
       "      <td>August</td>\n",
       "      <td>2023-08-25</td>\n",
       "      <td>9</td>\n",
       "      <td>3</td>\n",
       "      <td>NaN</td>\n",
       "      <td>8</td>\n",
       "      <td>2023-08-25</td>\n",
       "      <td>Friday</td>\n",
       "      <td>9-10</td>\n",
       "    </tr>\n",
       "    <tr>\n",
       "      <th>1</th>\n",
       "      <td>2023-08-25 09:03:00</td>\n",
       "      <td>None</td>\n",
       "      <td>You were added</td>\n",
       "      <td>2023</td>\n",
       "      <td>August</td>\n",
       "      <td>2023-08-25</td>\n",
       "      <td>9</td>\n",
       "      <td>3</td>\n",
       "      <td>NaN</td>\n",
       "      <td>8</td>\n",
       "      <td>2023-08-25</td>\n",
       "      <td>Friday</td>\n",
       "      <td>9-10</td>\n",
       "    </tr>\n",
       "    <tr>\n",
       "      <th>2</th>\n",
       "      <td>2024-01-28 15:43:00</td>\n",
       "      <td>+91 80018 45577</td>\n",
       "      <td>Ye Pic to mai click kiya tha 🤌🏻🤣</td>\n",
       "      <td>2024</td>\n",
       "      <td>January</td>\n",
       "      <td>2024-01-28</td>\n",
       "      <td>15</td>\n",
       "      <td>43</td>\n",
       "      <td>NaN</td>\n",
       "      <td>1</td>\n",
       "      <td>2024-01-28</td>\n",
       "      <td>Sunday</td>\n",
       "      <td>15-16</td>\n",
       "    </tr>\n",
       "    <tr>\n",
       "      <th>3</th>\n",
       "      <td>2024-01-28 15:44:00</td>\n",
       "      <td>+91 80018 45577</td>\n",
       "      <td>Kaha se forward hua ye !!!😳</td>\n",
       "      <td>2024</td>\n",
       "      <td>January</td>\n",
       "      <td>2024-01-28</td>\n",
       "      <td>15</td>\n",
       "      <td>44</td>\n",
       "      <td>NaN</td>\n",
       "      <td>1</td>\n",
       "      <td>2024-01-28</td>\n",
       "      <td>Sunday</td>\n",
       "      <td>15-16</td>\n",
       "    </tr>\n",
       "    <tr>\n",
       "      <th>4</th>\n",
       "      <td>2024-01-28 16:39:00</td>\n",
       "      <td>+91 94508 79345</td>\n",
       "      <td>Bahut log ke pass hai</td>\n",
       "      <td>2024</td>\n",
       "      <td>January</td>\n",
       "      <td>2024-01-28</td>\n",
       "      <td>16</td>\n",
       "      <td>39</td>\n",
       "      <td>NaN</td>\n",
       "      <td>1</td>\n",
       "      <td>2024-01-28</td>\n",
       "      <td>Sunday</td>\n",
       "      <td>16-17</td>\n",
       "    </tr>\n",
       "  </tbody>\n",
       "</table>\n",
       "</div>"
      ],
      "text/plain": [
       "                 date             user  \\\n",
       "0 2023-08-25 09:03:00             None   \n",
       "1 2023-08-25 09:03:00             None   \n",
       "2 2024-01-28 15:43:00  +91 80018 45577   \n",
       "3 2024-01-28 15:44:00  +91 80018 45577   \n",
       "4 2024-01-28 16:39:00  +91 94508 79345   \n",
       "\n",
       "                                             message  Year    Month  \\\n",
       "0  +91 95316 14708 created group \"HITK Official 27'\"  2023   August   \n",
       "1                                     You were added  2023   August   \n",
       "2                   Ye Pic to mai click kiya tha 🤌🏻🤣  2024  January   \n",
       "3                        Kaha se forward hua ye !!!😳  2024  January   \n",
       "4                              Bahut log ke pass hai  2024  January   \n",
       "\n",
       "          Day  hour  minutes  percentage_of_messages  month_number  \\\n",
       "0  2023-08-25     9        3                     NaN             8   \n",
       "1  2023-08-25     9        3                     NaN             8   \n",
       "2  2024-01-28    15       43                     NaN             1   \n",
       "3  2024-01-28    15       44                     NaN             1   \n",
       "4  2024-01-28    16       39                     NaN             1   \n",
       "\n",
       "    only_date day_name period  \n",
       "0  2023-08-25   Friday   9-10  \n",
       "1  2023-08-25   Friday   9-10  \n",
       "2  2024-01-28   Sunday  15-16  \n",
       "3  2024-01-28   Sunday  15-16  \n",
       "4  2024-01-28   Sunday  16-17  "
      ]
     },
     "execution_count": 230,
     "metadata": {},
     "output_type": "execute_result"
    }
   ],
   "source": [
    "df.head()"
   ]
  },
  {
   "cell_type": "code",
   "execution_count": 232,
   "id": "1ee9c0c4",
   "metadata": {},
   "outputs": [
    {
     "data": {
      "image/png": "[encoded data removed]",
      "text/plain": [
       "<Figure size 2000x600 with 2 Axes>"
      ]
     },
     "metadata": {},
     "output_type": "display_data"
    }
   ],
   "source": [
    "import seaborn as sns\n",
    "plt.figure(figsize=(20,6))\n",
    "sns.heatmap(df.pivot_table(index=\"day_name\",columns=\"period\",values=\"message\",aggfunc='count').fillna(0))\n",
    "plt.yticks(rotation='horizontal')\n",
    "plt.show()"
   ]
  },
  {
   "cell_type": "code",
   "execution_count": null,
   "id": "5856853c",
   "metadata": {},
   "outputs": [],
   "source": []
  }
 ],
 "metadata": {
  "kernelspec": {
   "display_name": "Python 3 (ipykernel)",
   "language": "python",
   "name": "python3"
  },
  "language_info": {
   "codemirror_mode": {
    "name": "ipython",
    "version": 3
   },
   "file_extension": ".py",
   "mimetype": "text/x-python",
   "name": "python",
   "nbconvert_exporter": "python",
   "pygments_lexer": "ipython3",
   "version": "3.11.5"
  }
 },
 "nbformat": 4,
 "nbformat_minor": 5
}
